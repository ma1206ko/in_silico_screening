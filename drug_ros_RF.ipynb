{
 "cells": [
  {
   "cell_type": "code",
   "execution_count": null,
   "metadata": {},
   "outputs": [],
   "source": [
    "from sklearn.model_selection import train_test_split\n",
    "from sklearn.ensemble import RandomForestRegressor\n",
    "from sklearn.metrics import accuracy_score\n",
    "import pandas as pd\n",
    "import numpy as np\n",
    "from imblearn.over_sampling import SMOTE\n",
    "from sklearn.metrics import mean_squared_error\n",
    "\n",
    "name = \"teiROS_all\"\n",
    "# load of data\n",
    "data_set = pd.read_csv(name + \".csv\",sep=\",\",header=0)\n",
    "\n",
    "x1 = pd.DataFrame(data_set.drop(\"quality\",axis=1))\n",
    "\n",
    "#SMOTE\n",
    "#Extract evaluation value\n",
    "yQ = pd.DataFrame(data_set[\"quality\"])\n",
    "\n",
    "sm = SMOTE(random_state=42)\n",
    "\n",
    "#Amplify  minority data to the same number as the majority data\n",
    "X_res, Y_res = sm.fit_sample(x1, yQ[\"quality\"])\n",
    "\n",
    "#Exclude the objective variable lnROS from the explanatory variables\n",
    "x = pd.DataFrame(X_res.drop(\"lnROS\",axis=1))\n",
    "y=pd.DataFrame(X_res[\"lnROS\"])\n",
    "x_train,x_test,y_train,y_test = train_test_split(x,y,test_size=0.1)\n",
    "\n",
    "#RandomForest\n",
    "model = RandomForestRegressor(random_state=0)\n",
    "\n",
    "model.fit(x_train, y_train)\n",
    "\n",
    "score = model.score(x_test, y_test)\n",
    "print(score)\n",
    "\n",
    "# Verify\n",
    "y_train_pred = model.predict(x_train)\n",
    "\n",
    "data1 = np.c_[y_train, y_train_pred]\n",
    "data1 = pd.DataFrame(data1)\n",
    "np.savetxt('output_train.csv' , data1, delimiter=',')\n",
    "train_mse = mean_squared_error(y_train, y_train_pred)\n",
    "\n",
    "print(\"TRAIN RMSE: %.2f\" %(train_mse**0.5))\n",
    "\n",
    "y_test_pred  = model.predict(x_test)\n",
    "data2 = np.c_[y_test, y_test_pred]\n",
    "data1 = pd.DataFrame(data2)\n",
    "np.savetxt('output_ans_v2.csv' , data1, delimiter=',')\n",
    "\n",
    "mse = mean_squared_error(y_test,y_test_pred)\n",
    "print(\"test RMSE: %.2f\" %(mse**0.5))\n"
   ]
  }
 ],
 "metadata": {
  "kernelspec": {
   "display_name": "Python 3",
   "language": "python",
   "name": "python3"
  },
  "language_info": {
   "codemirror_mode": {
    "name": "ipython",
    "version": 3
   },
   "file_extension": ".py",
   "mimetype": "text/x-python",
   "name": "python",
   "nbconvert_exporter": "python",
   "pygments_lexer": "ipython3",
   "version": "3.7.9"
  }
 },
 "nbformat": 4,
 "nbformat_minor": 4
}
